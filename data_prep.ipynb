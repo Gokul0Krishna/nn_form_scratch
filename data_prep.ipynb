{
 "cells": [
  {
   "cell_type": "code",
   "execution_count": 11,
   "id": "74c4a31e",
   "metadata": {},
   "outputs": [],
   "source": [
    "import numpy as np\n",
    "import tensorflow_datasets as tfds\n"
   ]
  },
  {
   "cell_type": "code",
   "execution_count": 5,
   "id": "d5cce7fc",
   "metadata": {},
   "outputs": [],
   "source": [
    "mnist_dataset, mnist_info = tfds.load(name='mnist', with_info=True, as_supervised=True)"
   ]
  },
  {
   "cell_type": "code",
   "execution_count": null,
   "id": "d0fa0703",
   "metadata": {},
   "outputs": [],
   "source": [
    "traindf=mnist_dataset['train']\n",
    "testdf=mnist_dataset['test']\n",
    "\n"
   ]
  },
  {
   "cell_type": "code",
   "execution_count": null,
   "id": "b36868f8",
   "metadata": {},
   "outputs": [],
   "source": [
    "trainimage=[]\n",
    "trainlabel=[]\n",
    "testimage=[]\n",
    "testlabel=[]\n",
    "for image, label in traindf:\n",
    "    trainimage.append(image.numpy().squeeze()) \n",
    "    trainlabel.append(label.numpy())\n",
    "\n",
    "for image, label in testdf:\n",
    "    testimage.append(image.numpy().squeeze()) \n",
    "    testlabel.append(label.numpy())\n",
    "\n",
    "# trainimage=np.array([trainimage])\n",
    "# trainlabel=np.array([testlabel])\n",
    "# testimage=np.array([testimage])\n",
    "# testlabel=np.array([testdf])\n",
    "\n"
   ]
  },
  {
   "cell_type": "code",
   "execution_count": null,
   "id": "a1e56286",
   "metadata": {},
   "outputs": [
    {
     "name": "stdout",
     "output_type": "stream",
     "text": [
      "Training images shape: (60000, 28, 28)\n",
      "Training labels shape: (60000,)\n",
      "Test images shape: (60000, 28, 28)\n",
      "Test labels shape: (60000,)\n"
     ]
    }
   ],
   "source": [
    "import numpy as np\n",
    "\n",
    "# Convert training data\n",
    "X_train = np.array(trainimage)  # Images (features)\n",
    "y_train = np.array(trainlabel)  # Labels (targets)\n",
    "\n",
    "# Convert test data\n",
    "X_test = np.array(testimage)    # Images (features)\n",
    "y_test = np.array(testlabel)    # Labels (targets)\n",
    "\n",
    "print(\"Training images shape:\", X_train.shape)\n",
    "print(\"Training labels shape:\", y_train.shape)\n",
    "print(\"Test images shape:\", X_test.shape)\n",
    "print(\"Test labels shape:\", y_test.shape)\n",
    "\n"
   ]
  },
  {
   "cell_type": "code",
   "execution_count": 38,
   "id": "2c1ab401",
   "metadata": {},
   "outputs": [],
   "source": [
    "X_train = X_train.astype('float32') / 255.0  # Scale to [0, 1]\n",
    "X_test = X_test.astype('float32') / 255.0"
   ]
  },
  {
   "cell_type": "code",
   "execution_count": 39,
   "id": "4080482f",
   "metadata": {},
   "outputs": [],
   "source": [
    "X_train = np.expand_dims(X_train, axis=-1)  # Adds channel dimension (e.g., for grayscale)\n",
    "X_test = np.expand_dims(X_test, axis=-1)"
   ]
  },
  {
   "cell_type": "code",
   "execution_count": 41,
   "id": "13c3fecd",
   "metadata": {},
   "outputs": [
    {
     "name": "stdout",
     "output_type": "stream",
     "text": [
      "X_train shape: (60000, 28, 28, 1)\n",
      "y_train shape: (60000,)\n"
     ]
    }
   ],
   "source": [
    "print(\"X_train shape:\", X_train.shape)  # e.g., (60000, 28, 28, 1)\n",
    "print(\"y_train shape:\", y_train.shape)  # e.g., (60000,) or (60000, 10)"
   ]
  },
  {
   "cell_type": "code",
   "execution_count": null,
   "id": "1d97d509",
   "metadata": {},
   "outputs": [],
   "source": []
  },
  {
   "cell_type": "code",
   "execution_count": null,
   "id": "f380379d",
   "metadata": {},
   "outputs": [
    {
     "name": "stdout",
     "output_type": "stream",
     "text": [
      "0\n"
     ]
    },
    {
     "data": {
      "image/png": "[encoded data removed]",
      "text/plain": [
       "<Figure size 640x480 with 1 Axes>"
      ]
     },
     "metadata": {},
     "output_type": "display_data"
    }
   ],
   "source": [
    "print(testlabel[20])\n",
    "import matplotlib.pyplot as plt\n",
    "plt.imshow(testimage[20], cmap='Blues')\n",
    "plt.show()\n"
   ]
  },
  {
   "cell_type": "code",
   "execution_count": null,
   "id": "d1f190a0",
   "metadata": {},
   "outputs": [],
   "source": [
    "import matplotlib.pyplot as plt\n",
    "\n",
    "# Extract one batch (or example) from the dataset\n",
    "for image, label in traindf.take(1):\n",
    "    # Convert TensorFlow tensors to numpy arrays\n",
    "    image_np = image.numpy().squeeze()  # Shape: (28, 28, 1) → (28, 28)\n",
    "    label_np = label.numpy()\n",
    "\n",
    "    # Plot the image\n",
    "    plt.imshow(image_np, cmap='Blues')\n",
    "    plt.title(f\"Label: {label_np}\")\n",
    "    plt.axis('off')\n",
    "    plt.show()"
   ]
  },
  {
   "cell_type": "code",
   "execution_count": null,
   "id": "277c1ff7",
   "metadata": {},
   "outputs": [],
   "source": []
  },
  {
   "cell_type": "code",
   "execution_count": 2,
   "id": "8f78cf4d",
   "metadata": {},
   "outputs": [],
   "source": [
    "import numpy as np\n",
    "def relu(x):\n",
    "    return np.maximum(0, x)\n",
    "\n",
    "def relu_derivative(x):\n",
    "    return (x > 0).astype(float)\n",
    "\n",
    "def softmax(x):\n",
    "    e_x = np.exp(x - np.max(x))\n",
    "    return e_x / e_x.sum(axis=0)"
   ]
  },
  {
   "cell_type": "code",
   "execution_count": 3,
   "id": "81fd9f5d",
   "metadata": {},
   "outputs": [],
   "source": [
    "# when creating a layer think about how the array or layer interacts instead of each individual node\n",
    "class Layer:\n",
    "    def __init__(self, input_dim, output_dim):\n",
    "        self.weights = np.random.randn(input_dim, output_dim) * 0.01\n",
    "        self.bias = np.zeros((1, output_dim))#np.zeros creates an array of given length filled with zero\n",
    "    \n",
    "    def forward(self,input):\n",
    "        self.input=input\n",
    "        self.z=(np.dot(input,self.weights)+self.bias)\n",
    "        self.z=relu(self.z)\n",
    "        return self.z\n",
    "    \n",
    "    def backward(self, grad, learning_rate):\n",
    "        delta = grad * relu_derivative(self.z)\n",
    "        dW = np.dot(self.input.T, delta)\n",
    "        db = np.sum(delta, axis=0, keepdims=True)\n",
    "        dW = np.clip(dW, -1, 1)\n",
    "        db = np.clip(db, -1, 1)\n",
    "        self.weights -= learning_rate * dW\n",
    "        self.bias -= learning_rate * db\n",
    "        grad_prev = np.dot(delta, self.weights.T)\n",
    "        return grad_prev\n",
    "    \n",
    "\n",
    "class Outputlayer(Layer):\n",
    "    def forward(self, input):\n",
    "        self.input=input\n",
    "        self.z=(np.dot(input,self.weights)+self.bias)\n",
    "        self.z=softmax(self.z)\n",
    "        return self.z\n",
    "    \n",
    "    def backward(self, grad, learning_rate):\n",
    "        dW = np.dot(self.input.T, grad)\n",
    "        db = np.sum(grad, axis=0, keepdims=True)\n",
    "        dW = np.clip(dW, -1, 1)\n",
    "        db = np.clip(db, -1, 1)\n",
    "        self.weights -= learning_rate * dW\n",
    "        self.bias -= learning_rate * db\n",
    "        return np.dot(grad, self.weights.T)\n",
    "\n"
   ]
  },
  {
   "cell_type": "code",
   "execution_count": 1,
   "id": "6343ccb4",
   "metadata": {},
   "outputs": [],
   "source": [
    "class NeuralNetwork:\n",
    "    def __init__(self, input_size, hidden_sizes, output_size=1):\n",
    "        self.layers = []\n",
    "        sizes = [input_size] + hidden_sizes\n",
    "        for i in range(len(hidden_sizes)):\n",
    "            self.layers.append(Layer(sizes[i], sizes[i+1]))\n",
    "        self.layers.append(Outputlayer(hidden_sizes[-1], output_size))\n",
    "    \n",
    "    def forward(self, X):\n",
    "        a = X\n",
    "        for layer in self.layers:\n",
    "            a = layer.forward(a)\n",
    "        return a\n",
    "    \n",
    "    def backward(self, X, y, learning_rate):\n",
    "        y_pred = self.forward(X)\n",
    "        m = X.shape[0]\n",
    "        if y.ndim == 1:\n",
    "            y = y.reshape(-1, 1)\n",
    "        grad = (y_pred - y) / m\n",
    "        for layer in reversed(self.layers):\n",
    "            grad = layer.backward(grad, learning_rate)"
   ]
  },
  {
   "cell_type": "code",
   "execution_count": null,
   "id": "b7543a58",
   "metadata": {},
   "outputs": [],
   "source": [
    "def train_model( input_size, hidden_units, epochs=1000, lr=0.001):\n",
    "    X_train, y_train = load_data(\"train.npz\")\n",
    "    X_val, y_val = load_data(\"val.npz\")\n",
    "    model = NeuralNetwork(input_size=input_size, hidden_sizes=hidden_units, output_size=1)\n",
    "    for epoch in range(epochs):\n",
    "        y_pred = model.forward(X_train)\n",
    "        loss = np.mean((y_pred - y_train) ** 2)\n",
    "        model.backward(X_train, y_train, lr)\n",
    "        val_pred = model.forward(X_val)\n",
    "        val_loss = np.mean((val_pred - y_val) ** 2)\n",
    "        if epoch % 100 == 0:\n",
    "            print(f\"Epoch {epoch} | Train Loss: {loss:.4f} | Val Loss: {val_loss:.4f}\")\n",
    "    return model\n",
    "    "
   ]
  },
  {
   "cell_type": "code",
   "execution_count": null,
   "id": "3e9fa1fb",
   "metadata": {},
   "outputs": [],
   "source": [
    "def evaluate_model(model):\n",
    "    X_test, y_test = load_data(\"test.npz\")\n",
    "    y_pred = model.forward(X_test)\n",
    "    loss = -(y_true * np.log(y_pred) + (1 - y_true) * np.log(1 - y_pred)).mean()\n",
    "    "
   ]
  }
 ],
 "metadata": {
  "kernelspec": {
   "display_name": "py3-TF2.0",
   "language": "python",
   "name": "python3"
  },
  "language_info": {
   "codemirror_mode": {
    "name": "ipython",
    "version": 3
   },
   "file_extension": ".py",
   "mimetype": "text/x-python",
   "name": "python",
   "nbconvert_exporter": "python",
   "pygments_lexer": "ipython3",
   "version": "3.10.16"
  }
 },
 "nbformat": 4,
 "nbformat_minor": 5
}
