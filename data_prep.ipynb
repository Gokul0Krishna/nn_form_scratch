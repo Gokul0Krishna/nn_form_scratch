{
 "cells": [
  {
   "cell_type": "code",
   "execution_count": null,
   "id": "74c4a31e",
   "metadata": {},
   "outputs": [],
   "source": [
    "import numpy\n",
    "import tensorflow_datasets as tfds\n"
   ]
  },
  {
   "cell_type": "code",
   "execution_count": null,
   "id": "d5cce7fc",
   "metadata": {},
   "outputs": [],
   "source": [
    "mnist_dataset, mnist_info = tfds.load(name='mnist', with_info=True, as_supervised=True)"
   ]
  },
  {
   "cell_type": "code",
   "execution_count": 12,
   "id": "2db6b962",
   "metadata": {},
   "outputs": [
    {
     "name": "stdout",
     "output_type": "stream",
     "text": [
      "{'train': <_PrefetchDataset element_spec=(TensorSpec(shape=(28, 28, 1), dtype=tf.uint8, name=None), TensorSpec(shape=(), dtype=tf.int64, name=None))>, 'test': <_PrefetchDataset element_spec=(TensorSpec(shape=(28, 28, 1), dtype=tf.uint8, name=None), TensorSpec(shape=(), dtype=tf.int64, name=None))>}\n"
     ]
    }
   ],
   "source": [
    "print(mnist_dataset)"
   ]
  },
  {
   "cell_type": "code",
   "execution_count": null,
   "id": "d0fa0703",
   "metadata": {},
   "outputs": [],
   "source": [
    "traindf=mnist_dataset['train']\n",
    "testdf=mnist_dataset['test']\n"
   ]
  },
  {
   "cell_type": "code",
   "execution_count": 28,
   "id": "d1f190a0",
   "metadata": {},
   "outputs": [
    {
     "data": {
      "image/png": "[encoded data removed]",
      "text/plain": [
       "<Figure size 640x480 with 1 Axes>"
      ]
     },
     "metadata": {},
     "output_type": "display_data"
    }
   ],
   "source": [
    "import matplotlib.pyplot as plt\n",
    "\n",
    "# Extract one batch (or example) from the dataset\n",
    "for image, label in traindf.take(1):\n",
    "    # Convert TensorFlow tensors to numpy arrays\n",
    "    image_np = image.numpy().squeeze()  # Shape: (28, 28, 1) → (28, 28)\n",
    "    label_np = label.numpy()\n",
    "\n",
    "    # Plot the image\n",
    "    plt.imshow(image_np, cmap='Blues')\n",
    "    plt.title(f\"Label: {label_np}\")\n",
    "    plt.axis('off')\n",
    "    plt.show()"
   ]
  },
  {
   "cell_type": "code",
   "execution_count": null,
   "id": "8f78cf4d",
   "metadata": {},
   "outputs": [],
   "source": []
  }
 ],
 "metadata": {
  "kernelspec": {
   "display_name": "py3-TF2.0",
   "language": "python",
   "name": "python3"
  },
  "language_info": {
   "codemirror_mode": {
    "name": "ipython",
    "version": 3
   },
   "file_extension": ".py",
   "mimetype": "text/x-python",
   "name": "python",
   "nbconvert_exporter": "python",
   "pygments_lexer": "ipython3",
   "version": "3.10.16"
  }
 },
 "nbformat": 4,
 "nbformat_minor": 5
}
