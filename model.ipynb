{
 "cells": [
  {
   "cell_type": "code",
   "execution_count": 1,
   "metadata": {},
   "outputs": [],
   "source": [
    "import numpy as np"
   ]
  },
  {
   "cell_type": "code",
   "execution_count": null,
   "metadata": {},
   "outputs": [],
   "source": []
  },
  {
   "cell_type": "code",
   "execution_count": 1,
   "metadata": {},
   "outputs": [],
   "source": [
    "def relu(x):\n",
    "    return np.maximum(0, x)\n",
    "\n",
    "def relu_derivative(x):\n",
    "    return (x > 0).astype(float)\n"
   ]
  },
  {
   "cell_type": "code",
   "execution_count": null,
   "metadata": {},
   "outputs": [],
   "source": [
    "class Layer:\n",
    "    def __init__(self, input_size, output_size):\n",
    "        self.weights = np.random.randn(input_size, output_size) * 0.01\n",
    "        self.bias = np.zeros((1, output_size))\n",
    "        \n",
    "    def forward(self, X):\n",
    "        self.X = X\n",
    "\n",
    "        self.z = np.dot(X, self.weights) + self.bias\n",
    "        self.a = relu(self.z)\n",
    "        \n",
    "        return self.a\n",
    "    \n",
    "    def backward(self, grad, learning_rate):\n",
    "        delta = grad * relu_derivative(self.z)\n",
    "        dW = np.dot(self.X.T, delta)\n",
    "        db = np.sum(delta, axis=0, keepdims=True)\n",
    "        \n",
    "        self.weights -= learning_rate * dW\n",
    "        self.bias -= learning_rate * db\n",
    "        \n",
    "        grad_prev = np.dot(delta, self.weights.T)\n",
    "        return grad_prev"
   ]
  },
  {
   "cell_type": "code",
   "execution_count": null,
   "metadata": {},
   "outputs": [],
   "source": [
    "class OutputLayer(Layer):\n",
    "    def forward(self, X):\n",
    "        self.X = X\n",
    "        self.z = np.dot(X, self.weights) + self.bias\n",
    "        return self.z  \n",
    "    def backward(self, grad, learning_rate):\n",
    "        dW = np.dot(self.X.T, grad)\n",
    "        db = np.sum(grad, axis=0, keepdims=True)\n",
    "        \n",
    "        self.weights -= learning_rate * dW\n",
    "        self.bias -= learning_rate * db\n",
    "        \n",
    "        return np.dot(grad, self.weights.T)"
   ]
  },
  {
   "cell_type": "code",
   "execution_count": null,
   "metadata": {},
   "outputs": [],
   "source": [
    "class NeuralNetwork:\n",
    "    def __init__(self, input_size, hidden_sizes, output_size):\n",
    "        self.layers = []\n",
    "        \n",
    "        sizes = [input_size] + hidden_sizes\n",
    "        for i in range(len(hidden_sizes)):\n",
    "            self.layers.append(Layer(sizes[i], sizes[i+1]))\n",
    "        \n",
    "        self.layers.append(OutputLayer(hidden_sizes[-1], output_size))\n",
    "    \n",
    "    def forward(self, X):\n",
    "        a = X\n",
    "        for layer in self.layers:\n",
    "            a = layer.forward(a)\n",
    "        return a\n",
    "    \n",
    "    def backward(self, X, y, learning_rate):\n",
    "        y_pred = self.forward(X)\n",
    "        \n",
    "        m = X.shape[0]\n",
    "        grad = (y_pred - y) / m\n",
    "        \n",
    "        for layer in reversed(self.layers):\n",
    "            grad = layer.backward(grad, learning_rate)"
   ]
  },
  {
   "cell_type": "code",
   "execution_count": null,
   "metadata": {},
   "outputs": [],
   "source": []
  }
 ],
 "metadata": {
  "kernelspec": {
   "display_name": "py3-TF2.0",
   "language": "python",
   "name": "python3"
  },
  "language_info": {
   "codemirror_mode": {
    "name": "ipython",
    "version": 3
   },
   "file_extension": ".py",
   "mimetype": "text/x-python",
   "name": "python",
   "nbconvert_exporter": "python",
   "pygments_lexer": "ipython3",
   "version": "3.10.16"
  }
 },
 "nbformat": 4,
 "nbformat_minor": 2
}
