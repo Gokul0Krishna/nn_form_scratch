{
 "cells": [
  {
   "cell_type": "code",
   "execution_count": 3,
   "metadata": {},
   "outputs": [],
   "source": [
    "import numpy as np"
   ]
  },
  {
   "cell_type": "code",
   "execution_count": 15,
   "metadata": {},
   "outputs": [],
   "source": [
    "INPUT_SIZE = 13\n",
    "HIDDEN_UNITS = [64, 32]\n",
    "EPOCHS = 1000\n",
    "LEARNING_RATE = 0.1"
   ]
  },
  {
   "cell_type": "code",
   "execution_count": 13,
   "metadata": {},
   "outputs": [],
   "source": [
    "def load_data(npz_path):\n",
    "    data = np.load(npz_path)\n",
    "    return data['x'], data['y']"
   ]
  },
  {
   "cell_type": "code",
   "execution_count": 1,
   "metadata": {},
   "outputs": [],
   "source": [
    "def relu(x):\n",
    "    return np.maximum(0, x)\n",
    "\n",
    "def relu_derivative(x):\n",
    "    return (x > 0).astype(float)\n"
   ]
  },
  {
   "cell_type": "code",
   "execution_count": 24,
   "metadata": {},
   "outputs": [],
   "source": [
    "class Layer:\n",
    "    def __init__(self, input_size, output_size):\n",
    "        self.weights = np.random.randn(input_size, output_size) * 0.01\n",
    "        self.bias = np.zeros((1, output_size))\n",
    "        \n",
    "    def forward(self, X):\n",
    "        self.X = X\n",
    "\n",
    "        self.z = np.dot(X, self.weights) + self.bias\n",
    "        self.a = relu(self.z)\n",
    "        \n",
    "        return self.a\n",
    "    \n",
    "    def backward(self, grad, learning_rate):\n",
    "        if grad.ndim == 1:\n",
    "            grad = grad.reshape(-1, 1)\n",
    "        \n",
    "        delta = grad * relu_derivative(self.z)\n",
    "        \n",
    "        dW = np.dot(self.X.T, delta)\n",
    "        db = np.sum(delta, axis=0, keepdims=True)\n",
    "        \n",
    "        self.weights -= learning_rate * dW\n",
    "        self.bias -= learning_rate * db\n",
    "        \n",
    "        grad_prev = np.dot(delta, self.weights.T)\n",
    "        return grad_prev"
   ]
  },
  {
   "cell_type": "code",
   "execution_count": 26,
   "metadata": {},
   "outputs": [],
   "source": [
    "class OutputLayer(Layer):\n",
    "    def forward(self, X):\n",
    "        self.X = X\n",
    "        self.z = np.dot(X, self.weights) + self.bias\n",
    "        return self.z  \n",
    "    \n",
    "    def backward(self, grad, learning_rate):\n",
    "        \n",
    "        if grad.ndim == 1:\n",
    "            grad = grad.reshape(-1, 1)\n",
    "        \n",
    "        dW = np.dot(self.X.T, grad)\n",
    "        db = np.sum(grad, axis=0, keepdims=True)\n",
    "        \n",
    "        self.weights -= learning_rate * dW\n",
    "        self.bias -= learning_rate * db\n",
    "        \n",
    "        grad_prev = np.dot(grad, self.weights.T)\n",
    "        return grad_prev"
   ]
  },
  {
   "cell_type": "code",
   "execution_count": 7,
   "metadata": {},
   "outputs": [],
   "source": [
    "class NeuralNetwork:\n",
    "    def __init__(self, input_size, hidden_sizes, output_size):\n",
    "        self.layers = []\n",
    "        \n",
    "        sizes = [input_size] + hidden_sizes\n",
    "        for i in range(len(hidden_sizes)):\n",
    "            self.layers.append(Layer(sizes[i], sizes[i+1]))\n",
    "        \n",
    "        self.layers.append(OutputLayer(hidden_sizes[-1], output_size))\n",
    "    \n",
    "    def forward(self, X):\n",
    "        a = X\n",
    "        for layer in self.layers:\n",
    "            a = layer.forward(a)\n",
    "        return a\n",
    "    \n",
    "    def backward(self, X, y, learning_rate):\n",
    "        y_pred = self.forward(X)\n",
    "        \n",
    "        m = X.shape[0]\n",
    "        grad = (y_pred - y) / m\n",
    "        \n",
    "        for layer in reversed(self.layers):\n",
    "            grad = layer.backward(grad, learning_rate)"
   ]
  },
  {
   "cell_type": "code",
   "execution_count": 11,
   "metadata": {},
   "outputs": [],
   "source": [
    "def train_model(input_size, hidden_units, epochs=1000, lr=0.001):\n",
    "    \n",
    "    X_train, y_train = load_data(\"train.npz\")\n",
    "    X_val, y_val = load_data(\"val.npz\")\n",
    "    \n",
    "   \n",
    "    model = NeuralNetwork(input_size=input_size, \n",
    "                         hidden_sizes=hidden_units, \n",
    "                         output_size=1)\n",
    "    \n",
    "   \n",
    "    for epoch in range(epochs):\n",
    "        \n",
    "        y_pred = model.forward(X_train)\n",
    "        \n",
    "        \n",
    "        loss = np.mean((y_pred - y_train) ** 2)\n",
    "        \n",
    "        \n",
    "        model.backward(X_train, y_train, lr)\n",
    "        \n",
    "        \n",
    "        val_pred = model.forward(X_val)\n",
    "        val_loss = np.mean((val_pred - y_val) ** 2)\n",
    "        \n",
    "        if epoch % 100 == 0:\n",
    "            print(f\"Epoch {epoch} | Train Loss: {loss:.4f} | Val Loss: {val_loss:.4f}\")"
   ]
  },
  {
   "cell_type": "code",
   "execution_count": 10,
   "metadata": {},
   "outputs": [],
   "source": [
    "def evaluate_model(model):\n",
    "    X_test, y_test = load_data(\"test.npz\")\n",
    "    y_pred = model.forward(X_test)\n",
    "    \n",
    "    mae = np.mean(np.abs(y_pred - y_test))\n",
    "    mse = np.mean((y_pred - y_test) ** 2)\n",
    "    \n",
    "    print(f\"\\nTest Results:\")\n",
    "    print(f\"MSE: {mse:.4f}\")\n",
    "    print(f\"MAE: {mae:.4f}\")"
   ]
  },
  {
   "cell_type": "code",
   "execution_count": 27,
   "metadata": {},
   "outputs": [
    {
     "ename": "ValueError",
     "evalue": "non-broadcastable output operand with shape (32,1) doesn't match the broadcast shape (32,354)",
     "output_type": "error",
     "traceback": [
      "\u001b[1;31m---------------------------------------------------------------------------\u001b[0m",
      "\u001b[1;31mValueError\u001b[0m                                Traceback (most recent call last)",
      "Cell \u001b[1;32mIn[27], line 1\u001b[0m\n\u001b[1;32m----> 1\u001b[0m model \u001b[38;5;241m=\u001b[39m \u001b[43mtrain_model\u001b[49m\u001b[43m(\u001b[49m\n\u001b[0;32m      2\u001b[0m \u001b[43m                       \u001b[49m\u001b[43minput_size\u001b[49m\u001b[38;5;241;43m=\u001b[39;49m\u001b[43mINPUT_SIZE\u001b[49m\u001b[43m,\u001b[49m\n\u001b[0;32m      3\u001b[0m \u001b[43m                       \u001b[49m\u001b[43mhidden_units\u001b[49m\u001b[38;5;241;43m=\u001b[39;49m\u001b[43mHIDDEN_UNITS\u001b[49m\u001b[43m,\u001b[49m\n\u001b[0;32m      4\u001b[0m \u001b[43m                       \u001b[49m\u001b[43mepochs\u001b[49m\u001b[38;5;241;43m=\u001b[39;49m\u001b[43mEPOCHS\u001b[49m\u001b[43m,\u001b[49m\n\u001b[0;32m      5\u001b[0m \u001b[43m                       \u001b[49m\u001b[43mlr\u001b[49m\u001b[38;5;241;43m=\u001b[39;49m\u001b[43mLEARNING_RATE\u001b[49m\u001b[43m)\u001b[49m\n\u001b[0;32m      7\u001b[0m evaluate_model(model)\n",
      "Cell \u001b[1;32mIn[11], line 20\u001b[0m, in \u001b[0;36mtrain_model\u001b[1;34m(input_size, hidden_units, epochs, lr)\u001b[0m\n\u001b[0;32m     14\u001b[0m y_pred \u001b[38;5;241m=\u001b[39m model\u001b[38;5;241m.\u001b[39mforward(X_train)\n\u001b[0;32m     17\u001b[0m loss \u001b[38;5;241m=\u001b[39m np\u001b[38;5;241m.\u001b[39mmean((y_pred \u001b[38;5;241m-\u001b[39m y_train) \u001b[38;5;241m*\u001b[39m\u001b[38;5;241m*\u001b[39m \u001b[38;5;241m2\u001b[39m)\n\u001b[1;32m---> 20\u001b[0m \u001b[43mmodel\u001b[49m\u001b[38;5;241;43m.\u001b[39;49m\u001b[43mbackward\u001b[49m\u001b[43m(\u001b[49m\u001b[43mX_train\u001b[49m\u001b[43m,\u001b[49m\u001b[43m \u001b[49m\u001b[43my_train\u001b[49m\u001b[43m,\u001b[49m\u001b[43m \u001b[49m\u001b[43mlr\u001b[49m\u001b[43m)\u001b[49m\n\u001b[0;32m     23\u001b[0m val_pred \u001b[38;5;241m=\u001b[39m model\u001b[38;5;241m.\u001b[39mforward(X_val)\n\u001b[0;32m     24\u001b[0m val_loss \u001b[38;5;241m=\u001b[39m np\u001b[38;5;241m.\u001b[39mmean((val_pred \u001b[38;5;241m-\u001b[39m y_val) \u001b[38;5;241m*\u001b[39m\u001b[38;5;241m*\u001b[39m \u001b[38;5;241m2\u001b[39m)\n",
      "Cell \u001b[1;32mIn[7], line 24\u001b[0m, in \u001b[0;36mNeuralNetwork.backward\u001b[1;34m(self, X, y, learning_rate)\u001b[0m\n\u001b[0;32m     21\u001b[0m grad \u001b[38;5;241m=\u001b[39m (y_pred \u001b[38;5;241m-\u001b[39m y) \u001b[38;5;241m/\u001b[39m m\n\u001b[0;32m     23\u001b[0m \u001b[38;5;28;01mfor\u001b[39;00m layer \u001b[38;5;129;01min\u001b[39;00m \u001b[38;5;28mreversed\u001b[39m(\u001b[38;5;28mself\u001b[39m\u001b[38;5;241m.\u001b[39mlayers):\n\u001b[1;32m---> 24\u001b[0m     grad \u001b[38;5;241m=\u001b[39m \u001b[43mlayer\u001b[49m\u001b[38;5;241;43m.\u001b[39;49m\u001b[43mbackward\u001b[49m\u001b[43m(\u001b[49m\u001b[43mgrad\u001b[49m\u001b[43m,\u001b[49m\u001b[43m \u001b[49m\u001b[43mlearning_rate\u001b[49m\u001b[43m)\u001b[49m\n",
      "Cell \u001b[1;32mIn[26], line 15\u001b[0m, in \u001b[0;36mOutputLayer.backward\u001b[1;34m(self, grad, learning_rate)\u001b[0m\n\u001b[0;32m     12\u001b[0m dW \u001b[38;5;241m=\u001b[39m np\u001b[38;5;241m.\u001b[39mdot(\u001b[38;5;28mself\u001b[39m\u001b[38;5;241m.\u001b[39mX\u001b[38;5;241m.\u001b[39mT, grad)\n\u001b[0;32m     13\u001b[0m db \u001b[38;5;241m=\u001b[39m np\u001b[38;5;241m.\u001b[39msum(grad, axis\u001b[38;5;241m=\u001b[39m\u001b[38;5;241m0\u001b[39m, keepdims\u001b[38;5;241m=\u001b[39m\u001b[38;5;28;01mTrue\u001b[39;00m)\n\u001b[1;32m---> 15\u001b[0m \u001b[38;5;28mself\u001b[39m\u001b[38;5;241m.\u001b[39mweights \u001b[38;5;241m-\u001b[39m\u001b[38;5;241m=\u001b[39m learning_rate \u001b[38;5;241m*\u001b[39m dW\n\u001b[0;32m     16\u001b[0m \u001b[38;5;28mself\u001b[39m\u001b[38;5;241m.\u001b[39mbias \u001b[38;5;241m-\u001b[39m\u001b[38;5;241m=\u001b[39m learning_rate \u001b[38;5;241m*\u001b[39m db\n\u001b[0;32m     18\u001b[0m grad_prev \u001b[38;5;241m=\u001b[39m np\u001b[38;5;241m.\u001b[39mdot(grad, \u001b[38;5;28mself\u001b[39m\u001b[38;5;241m.\u001b[39mweights\u001b[38;5;241m.\u001b[39mT)\n",
      "\u001b[1;31mValueError\u001b[0m: non-broadcastable output operand with shape (32,1) doesn't match the broadcast shape (32,354)"
     ]
    }
   ],
   "source": [
    "model = train_model(\n",
    "                       input_size=INPUT_SIZE,\n",
    "                       hidden_units=HIDDEN_UNITS,\n",
    "                       epochs=EPOCHS,\n",
    "                       lr=LEARNING_RATE)\n",
    "    \n",
    "evaluate_model(model)"
   ]
  }
 ],
 "metadata": {
  "kernelspec": {
   "display_name": "py3-TF2.0",
   "language": "python",
   "name": "python3"
  },
  "language_info": {
   "codemirror_mode": {
    "name": "ipython",
    "version": 3
   },
   "file_extension": ".py",
   "mimetype": "text/x-python",
   "name": "python",
   "nbconvert_exporter": "python",
   "pygments_lexer": "ipython3",
   "version": "3.10.16"
  }
 },
 "nbformat": 4,
 "nbformat_minor": 2
}
