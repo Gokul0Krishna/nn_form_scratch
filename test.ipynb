{
 "cells": [
  {
   "cell_type": "code",
   "execution_count": 29,
   "metadata": {},
   "outputs": [],
   "source": [
    "import numpy as np"
   ]
  },
  {
   "cell_type": "code",
   "execution_count": 30,
   "metadata": {},
   "outputs": [],
   "source": [
    "def relu(input):\n",
    "    return np.maximum(0,input)\n",
    "\n",
    "def derivedrelu(input):\n",
    "    return (input>0).astype(float)\n",
    "\n",
    "# derivedrelu(0)"
   ]
  },
  {
   "cell_type": "code",
   "execution_count": 31,
   "metadata": {},
   "outputs": [],
   "source": [
    "class Neuron:\n",
    "    def __init__(self,rows,columns):    \n",
    "        self.weights=np.random.randn(rows,columns)\n",
    "        self.bias=np.random.randn(columns)\n",
    "    \n",
    "    def forward(self,input):\n",
    "        self.weightedsum=np.dot(input,self.weights)+self.bias\n",
    "        self.output=relu(self.weightedsum)\n",
    "\n",
    "    def backward(self,input,target,learning_rate):\n",
    "        error=self.output-target\n",
    "       \n",
    "        gradiantlosssum=error-derivedrelu(self.weightedsum)\n",
    "        gradiantweight=np.dot(input.T,gradiantlosssum)#.T is to transpose\n",
    "        gradiantbias=np.sum(gradiantlosssum)\n",
    "\n",
    "        self.weights-=learning_rate*gradiantweight\n",
    "        self.bias-=learning_rate*gradiantbias\n",
    "\n",
    "\n",
    "\n",
    "        \n"
   ]
  },
  {
   "cell_type": "code",
   "execution_count": 32,
   "metadata": {},
   "outputs": [
    {
     "name": "stdout",
     "output_type": "stream",
     "text": [
      "Epoch 0, Loss: 0.6666666666666666\n",
      "Epoch 100, Loss: 0.6518301565938954\n",
      "Epoch 200, Loss: 0.4467767446758115\n",
      "Epoch 300, Loss: 0.3770445920758185\n",
      "Epoch 400, Loss: 0.3439990889858801\n",
      "Epoch 500, Loss: 7.104669826104306\n",
      "Epoch 600, Loss: 0.6666666666666666\n",
      "Epoch 700, Loss: 0.6666666666666666\n",
      "Epoch 800, Loss: 0.6666666666666666\n",
      "Epoch 900, Loss: 0.6666666666666666\n",
      "Final output: [[0.]\n",
      " [0.]\n",
      " [0.]]\n"
     ]
    }
   ],
   "source": [
    "# Example usage\n",
    "input = np.array([[1, 2], [3, 4], [5, 6]])  # Batch of 3 samples, 2 features each\n",
    "target = np.array([[1], [0], [1]])  # Binary targets\n",
    "\n",
    "# Create a neuron\n",
    "neuron = Neuron(rows=2, columns=1)\n",
    "\n",
    "# Training loop\n",
    "learning_rate = 0.1\n",
    "for epoch in range(1000):\n",
    "    neuron.forward(input)\n",
    "    neuron.backward(input, target, learning_rate)\n",
    "\n",
    "    # Print loss every 100 epochs\n",
    "    if epoch % 100 == 0:\n",
    "        loss = np.mean((neuron.output - target) ** 2)\n",
    "        print(f\"Epoch {epoch}, Loss: {loss}\")\n",
    "\n",
    "# Final output\n",
    "print(\"Final output:\", neuron.output)"
   ]
  }
 ],
 "metadata": {
  "kernelspec": {
   "display_name": "py3-TF2.0",
   "language": "python",
   "name": "python3"
  },
  "language_info": {
   "codemirror_mode": {
    "name": "ipython",
    "version": 3
   },
   "file_extension": ".py",
   "mimetype": "text/x-python",
   "name": "python",
   "nbconvert_exporter": "python",
   "pygments_lexer": "ipython3",
   "version": "3.10.16"
  }
 },
 "nbformat": 4,
 "nbformat_minor": 2
}
