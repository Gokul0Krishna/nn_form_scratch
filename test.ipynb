{
 "cells": [
  {
   "cell_type": "code",
   "execution_count": 1,
   "metadata": {},
   "outputs": [],
   "source": [
    "import numpy"
   ]
  },
  {
   "cell_type": "code",
   "execution_count": 2,
   "metadata": {},
   "outputs": [
    {
     "name": "stdout",
     "output_type": "stream",
     "text": [
      "Neuron output before training: 0.3774974533635999\n",
      "Neuron output after training: 0.3843275975260864\n"
     ]
    }
   ],
   "source": [
    "import numpy as np\n",
    "\n",
    "# Define the sigmoid activation function\n",
    "def sigmoid(z):\n",
    "    return 1 / (1 + np.exp(-z))\n",
    "\n",
    "# Define the derivative of the sigmoid function\n",
    "def sigmoid_derivative(z):\n",
    "    return sigmoid(z) * (1 - sigmoid(z))\n",
    "\n",
    "# Define a single neuron\n",
    "class SingleNeuron:\n",
    "    def __init__(self, n_inputs):\n",
    "        # Initialize weights and bias randomly\n",
    "        self.weights = np.random.randn(n_inputs)\n",
    "        self.bias = np.random.randn()\n",
    "\n",
    "    def forward(self, inputs):\n",
    "        # Compute the weighted sum of inputs + bias\n",
    "        self.weighted_sum = np.dot(inputs, self.weights) + self.bias\n",
    "        # Apply the activation function (sigmoid)\n",
    "        self.output = sigmoid(self.weighted_sum)\n",
    "        return self.output\n",
    "\n",
    "    def backward(self, inputs, target, learning_rate):\n",
    "        # Compute the error (difference between predicted and actual output)\n",
    "        error = self.output - target\n",
    "\n",
    "        # Compute the gradient of the loss with respect to the weighted sum\n",
    "        d_loss_d_weighted_sum = error * sigmoid_derivative(self.weighted_sum)\n",
    "\n",
    "        # Compute gradients for weights and bias\n",
    "        d_loss_d_weights = np.dot(inputs.T, d_loss_d_weighted_sum)\n",
    "        d_loss_d_bias = np.sum(d_loss_d_weighted_sum)\n",
    "\n",
    "        # Update weights and bias using gradient descent\n",
    "        self.weights -= learning_rate * d_loss_d_weights\n",
    "        self.bias -= learning_rate * d_loss_d_bias\n",
    "\n",
    "# Example usage\n",
    "if __name__ == \"__main__\":\n",
    "    # Create a single neuron with 3 inputs\n",
    "    neuron = SingleNeuron(n_inputs=3)\n",
    "\n",
    "    # Define input data (3 features) and target output\n",
    "    inputs = np.array([0.5, -0.3, 0.8])\n",
    "    target = 1  # True label\n",
    "\n",
    "    # Perform forward pass\n",
    "    output = neuron.forward(inputs)\n",
    "    print(\"Neuron output before training:\", output)\n",
    "\n",
    "    # Perform backward pass (update weights and bias)\n",
    "    learning_rate = 0.1\n",
    "    neuron.backward(inputs, target, learning_rate)\n",
    "\n",
    "    # Perform forward pass again to see the updated output\n",
    "    output = neuron.forward(inputs)\n",
    "    print(\"Neuron output after training:\", output)"
   ]
  },
  {
   "cell_type": "code",
   "execution_count": 25,
   "metadata": {},
   "outputs": [],
   "source": [
    "def relu(input):\n",
    "    return np.maximum(0,input)\n",
    "\n",
    "def derivedrelu(input):\n",
    "    return (input>0).astype(float)\n",
    "\n",
    "# derivedrelu(0)"
   ]
  },
  {
   "cell_type": "code",
   "execution_count": 22,
   "metadata": {},
   "outputs": [],
   "source": [
    "class Neuron:\n",
    "    def __init__(self,rows,columns):    \n",
    "        self.weights=np.random.randn(rows,columns)\n",
    "        self.bias=np.random.randn(columns)\n",
    "    \n",
    "    def forward(self,input):\n",
    "        self.weightedsum=np.dot(input,self.weights)+self.bias\n",
    "        self.output=relu(self.weightedsum)\n",
    "\n",
    "    def backward(self,input,target,learning_rate):\n",
    "        error=self.output-target\n",
    "       \n",
    "        gradiantlosssum=error-derivedrelu(self.weightedsum)\n",
    "        gradiantweight=np.dot(input.T,gradiantlosssum)#.T is to transpose\n",
    "        gradiantbias=np.sum(gradiantlosssum)\n",
    "\n",
    "        self.weights-=learning_rate*gradiantweight\n",
    "        self.bias-=learning_rate*gradiantbias\n",
    "\n",
    "\n",
    "\n",
    "        \n"
   ]
  },
  {
   "cell_type": "code",
   "execution_count": 28,
   "metadata": {},
   "outputs": [
    {
     "name": "stdout",
     "output_type": "stream",
     "text": [
      "Epoch 0, Loss: 7.590624982583694\n",
      "Epoch 100, Loss: 0.4845873855299747\n",
      "Epoch 200, Loss: 1.2563803024299633\n",
      "Epoch 300, Loss: 0.9775604123511009\n",
      "Epoch 400, Loss: 0.3629059298933243\n",
      "Epoch 500, Loss: 0.6666666666666666\n",
      "Epoch 600, Loss: 7.143311092657356\n",
      "Epoch 700, Loss: 0.6666666666666666\n",
      "Epoch 800, Loss: 0.6666666666666666\n",
      "Epoch 900, Loss: 7.161124485274361\n",
      "Final output: [[3.70630313]\n",
      " [3.91939519]\n",
      " [4.13248726]]\n"
     ]
    }
   ],
   "source": [
    "# Example usage\n",
    "input = np.array([[1, 2], [3, 4], [5, 6]])  # Batch of 3 samples, 2 features each\n",
    "target = np.array([[1], [0], [1]])  # Binary targets\n",
    "\n",
    "# Create a neuron\n",
    "neuron = Neuron(rows=2, columns=1)\n",
    "\n",
    "# Training loop\n",
    "learning_rate = 0.1\n",
    "for epoch in range(1000):\n",
    "    neuron.forward(input)\n",
    "    neuron.backward(input, target, learning_rate)\n",
    "\n",
    "    # Print loss every 100 epochs\n",
    "    if epoch % 100 == 0:\n",
    "        loss = np.mean((neuron.output - target) ** 2)\n",
    "        print(f\"Epoch {epoch}, Loss: {loss}\")\n",
    "\n",
    "# Final output\n",
    "print(\"Final output:\", neuron.output)"
   ]
  },
  {
   "cell_type": "code",
   "execution_count": null,
   "metadata": {},
   "outputs": [],
   "source": []
  }
 ],
 "metadata": {
  "kernelspec": {
   "display_name": "py3-TF2.0",
   "language": "python",
   "name": "python3"
  },
  "language_info": {
   "codemirror_mode": {
    "name": "ipython",
    "version": 3
   },
   "file_extension": ".py",
   "mimetype": "text/x-python",
   "name": "python",
   "nbconvert_exporter": "python",
   "pygments_lexer": "ipython3",
   "version": "3.10.16"
  }
 },
 "nbformat": 4,
 "nbformat_minor": 2
}
