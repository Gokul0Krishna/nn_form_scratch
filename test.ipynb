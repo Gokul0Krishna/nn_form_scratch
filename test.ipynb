{
 "cells": [
  {
   "cell_type": "code",
   "execution_count": 1,
   "metadata": {},
   "outputs": [],
   "source": [
    "import numpy"
   ]
  },
  {
   "cell_type": "code",
   "execution_count": null,
   "metadata": {},
   "outputs": [],
   "source": [
    "import numpy as np\n",
    "\n",
    "# Define the sigmoid activation function\n",
    "def sigmoid(z):\n",
    "    return 1 / (1 + np.exp(-z))\n",
    "\n",
    "# Define the derivative of the sigmoid function\n",
    "def sigmoid_derivative(z):\n",
    "    return sigmoid(z) * (1 - sigmoid(z))\n",
    "\n",
    "# Define a single neuron\n",
    "class SingleNeuron:\n",
    "    def __init__(self, n_inputs):\n",
    "        # Initialize weights and bias randomly\n",
    "        self.weights = np.random.randn(n_inputs)\n",
    "        self.bias = np.random.randn()\n",
    "\n",
    "    def forward(self, inputs):\n",
    "        # Compute the weighted sum of inputs + bias\n",
    "        self.weighted_sum = np.dot(inputs, self.weights) + self.bias\n",
    "        # Apply the activation function (sigmoid)\n",
    "        self.output = sigmoid(self.weighted_sum)\n",
    "        return self.output\n",
    "\n",
    "    def backward(self, inputs, target, learning_rate):\n",
    "        # Compute the error (difference between predicted and actual output)\n",
    "        error = self.output - target\n",
    "\n",
    "        # Compute the gradient of the loss with respect to the weighted sum\n",
    "        d_loss_d_weighted_sum = error * sigmoid_derivative(self.weighted_sum)\n",
    "\n",
    "        # Compute gradients for weights and bias\n",
    "        d_loss_d_weights = np.dot(inputs.T, d_loss_d_weighted_sum)\n",
    "        d_loss_d_bias = np.sum(d_loss_d_weighted_sum)\n",
    "\n",
    "        # Update weights and bias using gradient descent\n",
    "        self.weights -= learning_rate * d_loss_d_weights\n",
    "        self.bias -= learning_rate * d_loss_d_bias\n",
    "\n",
    "# Example usage\n",
    "if __name__ == \"__main__\":\n",
    "    # Create a single neuron with 3 inputs\n",
    "    neuron = SingleNeuron(n_inputs=3)\n",
    "\n",
    "    # Define input data (3 features) and target output\n",
    "    inputs = np.array([0.5, -0.3, 0.8])\n",
    "    target = 1  # True label\n",
    "\n",
    "    # Perform forward pass\n",
    "    output = neuron.forward(inputs)\n",
    "    print(\"Neuron output before training:\", output)\n",
    "\n",
    "    # Perform backward pass (update weights and bias)\n",
    "    learning_rate = 0.1\n",
    "    neuron.backward(inputs, target, learning_rate)\n",
    "\n",
    "    # Perform forward pass again to see the updated output\n",
    "    output = neuron.forward(inputs)\n",
    "    print(\"Neuron output after training:\", output)"
   ]
  }
 ],
 "metadata": {
  "kernelspec": {
   "display_name": "py3-TF2.0",
   "language": "python",
   "name": "python3"
  },
  "language_info": {
   "codemirror_mode": {
    "name": "ipython",
    "version": 3
   },
   "file_extension": ".py",
   "mimetype": "text/x-python",
   "name": "python",
   "nbconvert_exporter": "python",
   "pygments_lexer": "ipython3",
   "version": "3.10.16"
  }
 },
 "nbformat": 4,
 "nbformat_minor": 2
}
